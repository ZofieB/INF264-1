{
 "metadata": {
  "language_info": {
   "codemirror_mode": {
    "name": "ipython",
    "version": 3
   },
   "file_extension": ".py",
   "mimetype": "text/x-python",
   "name": "python",
   "nbconvert_exporter": "python",
   "pygments_lexer": "ipython3",
   "version": "3.8.5-final"
  },
  "orig_nbformat": 2,
  "kernelspec": {
   "name": "python3",
   "display_name": "Python 3"
  }
 },
 "nbformat": 4,
 "nbformat_minor": 2,
 "cells": [
  {
   "cell_type": "code",
   "execution_count": 7,
   "metadata": {},
   "outputs": [],
   "source": [
    "import pandas as pd"
   ]
  },
  {
   "cell_type": "code",
   "execution_count": 5,
   "metadata": {},
   "outputs": [],
   "source": [
    "### Data structure for organizing a tree"
   ]
  },
  {
   "cell_type": "code",
   "execution_count": 36,
   "metadata": {
    "tags": []
   },
   "outputs": [
    {
     "output_type": "stream",
     "name": "stdout",
     "text": "[[  3.6216    8.6661   -2.8073   -0.44699]\n [  4.5459    8.1674   -2.4586   -1.4621 ]\n [  3.866    -2.6383    1.9242    0.10645]\n ...\n [ -3.7503  -13.4586   17.5932   -2.7771 ]\n [ -3.5637   -8.3827   12.393    -1.2823 ]\n [ -2.5419   -0.65804   2.6842    1.1952 ]]\n[-0.44699 -1.4621   0.10645 ... -2.7771  -1.2823   1.1952 ]\n"
    }
   ],
   "source": [
    "#read file to input\n",
    "df = pd.read_csv('data_banknote_authentication.txt', sep=',', header = None)\n",
    "X = df.to_numpy()\n",
    "y = df[4].to_numpy()\n",
    "X = X[:, :4]\n",
    "print(X)"
   ]
  },
  {
   "cell_type": "code",
   "execution_count": null,
   "metadata": {},
   "outputs": [],
   "source": [
    "class node: \n",
    "    #instance attributes\n",
    "    def __init__(self, data, parent = None):\n",
    "        # data contains a feature for inner nodes and the label for every leaf\n",
    "        self.data = data\n",
    "        self.parent = parent\n",
    "        #if children is empty, the node is a leaf -> data contains a label\n",
    "        self.children = [] #map value -> node // list of tuples\n",
    "    def __str__(self):\n",
    "        return f\"{self.data} - {self.children}\"\n",
    "    def addChild(self, child):\n",
    "        children.append(child)"
   ]
  },
  {
   "cell_type": "code",
   "execution_count": 4,
   "metadata": {},
   "outputs": [
    {
     "output_type": "error",
     "ename": "SyntaxError",
     "evalue": "invalid syntax (<ipython-input-4-f18edc85b7c0>, line 16)",
     "traceback": [
      "\u001b[0;36m  File \u001b[0;32m\"<ipython-input-4-f18edc85b7c0>\"\u001b[0;36m, line \u001b[0;32m16\u001b[0m\n\u001b[0;31m    feature_values =\u001b[0m\n\u001b[0m                     ^\u001b[0m\n\u001b[0;31mSyntaxError\u001b[0m\u001b[0;31m:\u001b[0m invalid syntax\n"
     ]
    }
   ],
   "source": [
    "def learn(X, y, impurity_measure = 'entropy'):\n",
    "    if same_value(y):\n",
    "        #create a leaf with the label -> all labels are the same so we pick an arbitrary label\n",
    "        return node(y[0])\n",
    "    elif same_value(X):\n",
    "        #leaf with most common label\n",
    "        label = common_label(y)\n",
    "        return node(label)\n",
    "    else:\n",
    "        #TODO: select feature with max information gain\n",
    "        feature = maxInformationGain(X, y)\n",
    "        #create feature node\n",
    "        f_node = node(feature)\n",
    "        #create child nodes \n",
    "        #get a list of all feature values\n",
    "        feature_values = X[:, feature]\n",
    "        #sort the list of feature values\n",
    "        sorted_features, index_permutation = sort_permutation(feature_values)\n",
    "        #find adjacent data points, that have a different label\n",
    "        split_indices = split_index(index_permutation, y)\n",
    "        #TODO: create split point for each\n",
    "        splitpoints = \n",
    "        for points in splitpoints:\n",
    "            #create new branch for each splitpoint\n",
    "            #store average to next child node as the value with the child (value at the edge to the child node)\n",
    "            #call learn recursively\n",
    "            child = learn(X_val, y_val)\n",
    "            child.parent = f_node\n",
    "            f_node.addChild(child)\n",
    "        #TODO: last node needs to be created"
   ]
  },
  {
   "cell_type": "code",
   "execution_count": 3,
   "metadata": {
    "tags": []
   },
   "outputs": [
    {
     "output_type": "stream",
     "name": "stdout",
     "text": "False\nTrue\n"
    }
   ],
   "source": [
    "#hilfsfunktionen\n",
    "def same_value(list_in):\n",
    "    return list_in[1:] == list_in[:-1]\n",
    "def common_label(y):\n",
    "    dict = {} \n",
    "    count = 0\n",
    "    item_ret = ''\n",
    "    for item in y: \n",
    "        dict[item] = dict.get(item, 0) + 1\n",
    "        if dict[item] >= count : \n",
    "            count, item_ret = dict[item], item \n",
    "    return(item_ret) \n",
    "def sort_with_index(liste):\n",
    "    temp_list = [ (list[i],i) for i in xrange(len(liste)) ]\n",
    "    temp_list.sort()\n",
    "    return zip(*temp_list)\n",
    "#TODO: test function\n",
    "def split_indices(index, y):\n",
    "    splitpoints = []\n",
    "    temp = index[0]\n",
    "    for i in range(len(index)):\n",
    "        if y[index[i]] != y[temp]:\n",
    "            splitpoints.append([temp, index[i]])\n",
    "            temp = index[i]\n",
    "    return splitpoints"
   ]
  }
 ]
}