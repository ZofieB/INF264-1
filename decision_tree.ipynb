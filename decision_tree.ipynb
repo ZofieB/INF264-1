{
 "metadata": {
  "language_info": {
   "codemirror_mode": {
    "name": "ipython",
    "version": 3
   },
   "file_extension": ".py",
   "mimetype": "text/x-python",
   "name": "python",
   "nbconvert_exporter": "python",
   "pygments_lexer": "ipython3",
   "version": "3.8.5-final"
  },
  "orig_nbformat": 2,
  "kernelspec": {
   "name": "python3",
   "display_name": "Python 3"
  }
 },
 "nbformat": 4,
 "nbformat_minor": 2,
 "cells": [
  {
   "cell_type": "code",
   "execution_count": 4,
   "metadata": {},
   "outputs": [],
   "source": [
    "import math\n",
    "\n",
    "def probabiliy_list(values):\n",
    "    count_values = len(values)\n",
    "    value_list = []\n",
    "    prob_list = []\n",
    "    different_val = 0\n",
    "    for i in range(count_values):\n",
    "        if (values[i] not in value_list): \n",
    "            value_list.append(values[i])\n",
    "            prob_list.append(1)\n",
    "            different_val +=1\n",
    "        else:\n",
    "            for j in range(different_val):\n",
    "                if(values[i]==value_list[j]): prob_list[j]+=1\n",
    "    for k in range(different_val):\n",
    "        prob_list[k] = float(prob_list[k]) / count_values\n",
    "    return prob_list \n",
    "\n",
    "def entropy(values):\n",
    "    prob_list = probabiliy_list(values)\n",
    "    different_values = len(prob_list)\n",
    "    sum = 0\n",
    "    for i in range(different_values):\n",
    "        sum -= math.log(prob_list[i], 2) * prob_list[i]\n",
    "    return sum\n",
    "\n",
    "def gini(values):\n",
    "    prob_list = probabiliy_list(values)\n",
    "    different_values = len(prob_list)\n",
    "    sum = 0\n",
    "    for i in range(different_values):\n",
    "        sum += prob_list[i]*(1-prob_list[i])\n",
    "    return sum\n",
    "\n"
   ]
  },
  {
   "cell_type": "code",
   "execution_count": 5,
   "metadata": {
    "tags": []
   },
   "outputs": [
    {
     "output_type": "stream",
     "name": "stdout",
     "text": "1.0\n0.5\n0.8112781244591328\n0.375\n"
    }
   ],
   "source": [
    "list = [1,1,2,2]\n",
    "print(entropy(list))\n",
    "print(gini(list))\n",
    "list2 = [1,1,1,2]\n",
    "print(entropy(list2))\n",
    "print(gini(list2))\n"
   ]
  },
  {
   "cell_type": "code",
   "execution_count": 3,
   "metadata": {},
   "outputs": [],
   "source": [
    "def delete_column(x,index):\n",
    "    #todo\n",
    "\n",
    "#this function needs to be implemented in the tree class\n",
    "#class has variables: data, children\n",
    "#if leaf: data is label otherwise data is featureindex\n",
    "#children is a list with elements of form (value, node)\n",
    "#Nodes save sorted listed of values --> check < on everyone except last\n",
    "def predict(x):\n",
    "    count_values = len(children)\n",
    "    for i in range(count_values):\n",
    "        if (not children):                          #empty children list --> leave\n",
    "            return data\n",
    "        elif(i == count_values-1):                  #Last value in list --> x > elements in this tree\n",
    "            x_update = delete_column(x, data)       #not leafe --> data=feature_index\n",
    "            (children[i])[1].predict(x_update)      #Remark: already used one feature!\n",
    "        elif(x[data] < (children[i])[0]):           #search child with right value\n",
    "            x_update = delete_column(x, data)\n",
    "            (children[i])[1].predict(x_update)      #use predict on child recursivly"
   ]
  },
  {
   "cell_type": "code",
   "execution_count": 6,
   "metadata": {},
   "outputs": [],
   "source": [
    "#Condition: Memorized majority label when building tree! --> majority_label\n",
    "#lets say X is 2-dimensional: X[Feature][number]\n",
    "def majority_label_acc(majority_label, y_prun):\n",
    "    x = 0\n",
    "    for i in range(len(y_prun)):\n",
    "        if(y_prun[i]==majority_label):\n",
    "            x += 1\n",
    "    return float(x) / len(y_prun)\n",
    "\n",
    "def pruning_acc(X_prun, y_prun):\n",
    "    x = 0\n",
    "    for i in range(len(y_prun)):\n",
    "        if(y_prun[i]==predict(X_prun[:,i])):\n",
    "            x += 1\n",
    "    return float(x) / len(y_prun)\n",
    "\n",
    "def delete_feature_from_matrix(X_train, Feature_index):\n",
    "    ...\n",
    "    #todo\n",
    "\n",
    "#this method has to be defined within the tree class\n",
    "def pruning(X_prun, y_prun): #starts with root + recursion\n",
    "    if (children): #the subtree is not a leaf\n",
    "        if (pruning_acc(X_prun, y_prun) < majority_label_acc(y_prun)): #case: switch subtree with majority_label\n",
    "            data = majority_label\n",
    "            children = []\n",
    "        else: \n",
    "            for i in range(len(children)):\n",
    "                X_prun_update = delete_feature_from_matrix(X_train, data)#not leaf --> data = feature_index\n",
    "                (children[i])[1].pruning(X_prun_update, y_prun) #call recursion on each child\n"
   ]
  },
  {
   "cell_type": "code",
   "execution_count": null,
   "metadata": {},
   "outputs": [],
   "source": []
  }
 ]
}