{
 "metadata": {
  "language_info": {
   "codemirror_mode": {
    "name": "ipython",
    "version": 3
   },
   "file_extension": ".py",
   "mimetype": "text/x-python",
   "name": "python",
   "nbconvert_exporter": "python",
   "pygments_lexer": "ipython3",
   "version": "3.8.5-final"
  },
  "orig_nbformat": 2,
  "kernelspec": {
   "name": "python3",
   "display_name": "Python 3"
  }
 },
 "nbformat": 4,
 "nbformat_minor": 2,
 "cells": [
  {
   "cell_type": "code",
   "execution_count": 14,
   "metadata": {},
   "outputs": [],
   "source": [
    "import math\n",
    "\n",
    "def probabiliy_list(values):\n",
    "    count_values = len(values)\n",
    "    value_list = []\n",
    "    prob_list = []\n",
    "    different_val = 0\n",
    "    for i in range(count_values):\n",
    "        if (values[i] not in value_list): \n",
    "            value_list.append(values[i])\n",
    "            prob_list.append(1)\n",
    "            different_val +=1\n",
    "        else:\n",
    "            for j in range(different_val):\n",
    "                if(values[i]==value_list[j]): prob_list[j]+=1\n",
    "    for k in range(different_val):\n",
    "        prob_list[k] = float(prob_list[k]) / count_values\n",
    "    return prob_list \n",
    "\n",
    "def entropy(values):\n",
    "    prob_list = probabiliy_list(values)\n",
    "    different_values = len(prob_list)\n",
    "    sum = 0\n",
    "    for i in range(different_values):\n",
    "        sum -= math.log(prob_list[i], 2) * prob_list[i]\n",
    "    return sum\n",
    "\n",
    "\n"
   ]
  },
  {
   "cell_type": "code",
   "execution_count": 16,
   "metadata": {
    "tags": []
   },
   "outputs": [
    {
     "output_type": "stream",
     "name": "stdout",
     "text": "1.0\n0.8112781244591328\n"
    }
   ],
   "source": [
    "list = [1,1,2,2]\n",
    "print(entropy(list))\n",
    "list2 = [1,1,1,2]\n",
    "print(entropy(list2))"
   ]
  },
  {
   "cell_type": "code",
   "execution_count": null,
   "metadata": {},
   "outputs": [],
   "source": []
  }
 ]
}