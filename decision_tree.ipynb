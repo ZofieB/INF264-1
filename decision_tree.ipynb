{
 "metadata": {
  "language_info": {
   "codemirror_mode": {
    "name": "ipython",
    "version": 3
   },
   "file_extension": ".py",
   "mimetype": "text/x-python",
   "name": "python",
   "nbconvert_exporter": "python",
   "pygments_lexer": "ipython3",
   "version": "3.8.5-final"
  },
  "orig_nbformat": 2,
  "kernelspec": {
   "name": "python3",
   "display_name": "Python 3"
  }
 },
 "nbformat": 4,
 "nbformat_minor": 2,
 "cells": [
  {
   "cell_type": "markdown",
   "metadata": {},
   "source": [
    "### Data structure for organizing a tree"
   ]
  },
  {
   "cell_type": "code",
   "execution_count": null,
   "metadata": {},
   "outputs": [],
   "source": [
    "class node: \n",
    "    #instance attributes\n",
    "    def __init__(self, data, parent = None):\n",
    "        # data contains a feature for inner nodes and the label for every leaf\n",
    "        self.data = data\n",
    "        self.parent = parent\n",
    "        #if children is empty, the node is a leaf -> data contains a label\n",
    "        self.children = [] #map value -> node // list of tuples\n",
    "    def __str__(self):\n",
    "        return f\"{self.data} - {self.children}\"\n",
    "    def addChild(self, child):\n",
    "        children.append(child)"
   ]
  },
  {
   "cell_type": "code",
   "execution_count": null,
   "metadata": {},
   "outputs": [],
   "source": [
    "def learn(X, y, impurity_measure = 'entropy'):\n",
    "    if same_value(y):\n",
    "        #create a leaf with the label -> all labels are the same so we pick an arbitrary label\n",
    "        return node(y[0])\n",
    "    elif same_value(X):\n",
    "        #leaf with most common label\n",
    "        label = common_label(y)\n",
    "        return node(label)\n",
    "    else:\n",
    "        #TODO: select feature with max information gain\n",
    "        feature = maxInformationGain(X, y)\n",
    "        #create feature node\n",
    "        f_node = node(feature)\n",
    "        #create child nodes \n",
    "        #TODO: get a list of all the values, that need to get a branch\n",
    "        feature_values = \n",
    "        for values in feature_values:\n",
    "            #create new branch for each feature\n",
    "            #split out the set of the dataset with the corresponding feature in place\n",
    "            #store average to next child node as the value with the child (value at the edge to the child node)\n",
    "            #call learn recursively\n",
    "            child = learn(X_val, y_val)\n",
    "            child.parent = f_node\n",
    "            f_node.addChild(child)\n",
    "        #TODO: last node needs to be created"
   ]
  },
  {
   "cell_type": "code",
   "execution_count": 3,
   "metadata": {
    "tags": []
   },
   "outputs": [
    {
     "output_type": "stream",
     "name": "stdout",
     "text": "False\nTrue\n"
    }
   ],
   "source": [
    "#hilfsfunktionen\n",
    "def same_value(list_in):\n",
    "    return list_in[1:] == list_in[:-1]\n",
    "def common_label(y):\n",
    "    dict = {} \n",
    "    count = 0\n",
    "    item_ret = ''\n",
    "    for item in y: \n",
    "        dict[item] = dict.get(item, 0) + 1\n",
    "        if dict[item] >= count : \n",
    "            count, item_ret = dict[item], item \n",
    "    return(item_ret) "
   ]
  },
  {
   "cell_type": "code",
   "execution_count": null,
   "metadata": {},
   "outputs": [],
   "source": []
  }
 ]
}